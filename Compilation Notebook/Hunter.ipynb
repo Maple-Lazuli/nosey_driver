{
 "cells": [
  {
   "cell_type": "code",
   "execution_count": null,
   "id": "8594d8e1",
   "metadata": {},
   "outputs": [],
   "source": [
    "from IPython.display import display, HTML\n",
    "display(HTML(\"<style>.container { width:90% !important; }</style>\"))\n",
    "import seaborn as sns\n",
    "import matplotlib.pyplot as plt"
   ]
  },
  {
   "cell_type": "code",
   "execution_count": null,
   "id": "69ee757b",
   "metadata": {},
   "outputs": [],
   "source": [
    "import math\n",
    "import pandas as pd\n",
    "import numpy as np\n",
    "import re\n",
    "from dateutil import parser\n",
    "from datetime import datetime, timedelta"
   ]
  },
  {
   "cell_type": "markdown",
   "id": "cf59dae5",
   "metadata": {},
   "source": [
    "# Preparing location data"
   ]
  },
  {
   "cell_type": "code",
   "execution_count": null,
   "id": "0e8674f0",
   "metadata": {},
   "outputs": [],
   "source": [
    "with open(\"location.txt\") as file_in:\n",
    "    l = file_in.readlines()"
   ]
  },
  {
   "cell_type": "code",
   "execution_count": null,
   "id": "69516251",
   "metadata": {},
   "outputs": [],
   "source": [
    "lines = []\n",
    "time = \"\"\n",
    "count = 0\n",
    "pattern = r\"^(.*?) - Lat:\\s*([-\\d.]+),\\s*Lon:\\s*([-\\d.]+)\"\n",
    "\n",
    "for line in l:\n",
    "    match = re.match(pattern, line)\n",
    "    if match:\n",
    "        line_time = match.group(1)\n",
    "        lat = match.group(2)\n",
    "        lon = match.group(3)\n",
    "\n",
    "        if line_time != time:\n",
    "            time = line_time\n",
    "            count = -1\n",
    "        count += 1\n",
    "\n",
    "        lines.append({\n",
    "            'time': datetime.strptime(line_time, \"%Y-%m-%d %H:%M:%S\"),\n",
    "            'count': count,\n",
    "            'lat': float(lat),\n",
    "            'lon': float(lon)\n",
    "        })\n",
    "    else:\n",
    "        print(\"Line didn't match expected format:\", line)"
   ]
  },
  {
   "cell_type": "code",
   "execution_count": null,
   "id": "f1162b4b",
   "metadata": {},
   "outputs": [],
   "source": [
    "np_times = np.array([l['time'] for l in lines], dtype=np.datetime64)"
   ]
  },
  {
   "cell_type": "markdown",
   "id": "31c5f211",
   "metadata": {},
   "source": [
    "# Prepare Wardriving data"
   ]
  },
  {
   "cell_type": "code",
   "execution_count": null,
   "id": "53b5db3c",
   "metadata": {},
   "outputs": [],
   "source": [
    "with open(\"readings\") as file_in:\n",
    "    l = file_in.readlines()\n",
    "    l = [L.strip() for L in l]"
   ]
  },
  {
   "cell_type": "code",
   "execution_count": null,
   "id": "be19b843",
   "metadata": {},
   "outputs": [],
   "source": [
    "start_time = \"\"\n",
    "end_time = \"\"\n",
    "ssid_groups = []\n",
    "sub_group_lines = []\n",
    "in_group = False\n",
    "for line in l:\n",
    "    # TODO: Update to not have hard coded dates\n",
    "    if  (not in_group) and (line.find(\"Mon May  5\") != -1 or line.find(\"Tue May  6\") != -1):\n",
    "        start_time = line\n",
    "        in_group = True\n",
    "    # TODO: Update to not have hard coded dates\n",
    "    elif (in_group) and ((line.find(\"Mon May  5\") != -1 or line.find(\"Tue May  6\") != -1)) and len(sub_group_lines) > 0:\n",
    "        end_time = line\n",
    "        ssid_groups.append({\n",
    "            'start': start_time,\n",
    "            'end':end_time,\n",
    "            'lines':sub_group_lines\n",
    "        })\n",
    "        start_time = ''\n",
    "        end_time = ''\n",
    "        sub_group_lines = []\n",
    "        in_group = False\n",
    "    # TODO: Update to not have hard coded dates\n",
    "    elif (in_group) and ((line.find(\"Mon May  5\") != -1 or line.find(\"Tue May  6\") != -1)) and len(sub_group_lines) == 0:\n",
    "        start_time = line\n",
    "    else:\n",
    "        sub_group_lines.append(line)"
   ]
  },
  {
   "cell_type": "code",
   "execution_count": null,
   "id": "5d5ff9ed",
   "metadata": {
    "scrolled": false
   },
   "outputs": [],
   "source": [
    "for group in ssid_groups:\n",
    "    group['cells'] = []\n",
    "    cell_dict = dict()\n",
    "    count = -1\n",
    "    in_cell = False\n",
    "    for line in group['lines']:\n",
    "        if (not in_cell) and (line.find(\"Cell\") != -1):\n",
    "            count = count + 1\n",
    "            cell_dict['address'] = line.split(\"Address:\")[-1].strip()\n",
    "            in_cell = True\n",
    "        elif (in_cell) and (line.find(\"ESSID\") != -1):\n",
    "            cell_dict['essid'] = line.split(\"ESSID:\")[-1].strip()\n",
    "        \n",
    "        elif (in_cell) and (line.find(\"Encryption\") != -1):\n",
    "            if line.find(\"on\") != -1:\n",
    "                cell_dict['encrypted'] = True\n",
    "            elif line.find(\"off\") != -1:\n",
    "                cell_dict['encrypted'] = False\n",
    "        \n",
    "        elif (in_cell) and (line.find(\"Frequency\") != -1):\n",
    "            cell_dict['frequency'] = line.split(\"Frequency:\")[-1].strip().strip(\"GHz\")[0].strip()\n",
    "        \n",
    "        elif (in_cell) and (line.find(\"Signal level\") != -1):\n",
    "            cell_dict['power'] = line.split(\"Signal level=\")[-1].strip()    \n",
    "        \n",
    "        elif (in_cell) and (line.find(\"Cell\") != -1):\n",
    "            cell_dict['position'] = count\n",
    "            group['cells'].append(cell_dict)\n",
    "            cell_dict = dict()\n",
    "            count = count + 1\n",
    "            cell_dict['address'] = line.split(\"Address:\")[-1].strip()\n",
    "            in_cell = True"
   ]
  },
  {
   "cell_type": "code",
   "execution_count": null,
   "id": "47fa42b6",
   "metadata": {},
   "outputs": [],
   "source": [
    "for group in ssid_groups:\n",
    "    start_timestamp = parser.parse(group['start']).timestamp()\n",
    "    end_timestamp = parser.parse(group['end']).timestamp()\n",
    "    size = len(group['cells'])\n",
    "    times = np.linspace(start_timestamp, end_timestamp, size)\n",
    "    for cell in group['cells']:\n",
    "        cell['time'] = datetime.fromtimestamp(times[cell['position']])"
   ]
  },
  {
   "cell_type": "code",
   "execution_count": null,
   "id": "47ac4077",
   "metadata": {},
   "outputs": [],
   "source": [
    "cells = []\n",
    "for group in ssid_groups:\n",
    "    for cell in group['cells']:\n",
    "        cells.append(cell)"
   ]
  },
  {
   "cell_type": "markdown",
   "id": "a2b81e0c",
   "metadata": {},
   "source": [
    "# Convert to dataframe"
   ]
  },
  {
   "cell_type": "code",
   "execution_count": null,
   "id": "9d575208",
   "metadata": {},
   "outputs": [],
   "source": [
    "def get_lat_lon(r, lat_lon):\n",
    "\n",
    "    t = r['time']\n",
    "    lat_lon_row = -1\n",
    "    difference = float('inf')  # use a more readable large number\n",
    "    lat_lon_row = np.abs(np_times - np.datetime64(t)).argmin()\n",
    "    if lat_lon_row != -1:\n",
    "        r['lat'] = lat_lon[lat_lon_row]['lat']\n",
    "        r['lon'] = lat_lon[lat_lon_row]['lon']\n",
    "        r['loc_time'] = lat_lon[lat_lon_row]['time']\n",
    "    else:\n",
    "        r['lat'] = None\n",
    "        r['lon'] = None\n",
    "        r['loc_time'] = None\n",
    "\n",
    "    return r"
   ]
  },
  {
   "cell_type": "code",
   "execution_count": null,
   "id": "85c26fee",
   "metadata": {},
   "outputs": [],
   "source": [
    "df = pd.DataFrame.from_records(cells)\n",
    "df['power'] = df['power'].apply(lambda x: 100 - float(x.strip().split(\" \")[0]) * -1)"
   ]
  },
  {
   "cell_type": "code",
   "execution_count": null,
   "id": "0a112ff1",
   "metadata": {},
   "outputs": [],
   "source": [
    "df.head()"
   ]
  },
  {
   "cell_type": "code",
   "execution_count": null,
   "id": "65655d0f",
   "metadata": {},
   "outputs": [],
   "source": [
    "target_ssid = \"McDonaldsWifi\"\n",
    "def ole_mac(x):\n",
    "    try:\n",
    "        x = x.lower().strip()\n",
    "        if x.find(target_ssid.lower().strip()) != -1:\n",
    "            return True\n",
    "    except:\n",
    "        return False\n",
    "    return False\n",
    "mc = df[df['essid'].apply(lambda x: ole_mac(x))]\n",
    "#mc = df[df['target']]"
   ]
  },
  {
   "cell_type": "code",
   "execution_count": null,
   "id": "7bc368da",
   "metadata": {},
   "outputs": [],
   "source": [
    "mc= mc.apply(lambda x: get_lat_lon(x, lines), axis=1)"
   ]
  },
  {
   "cell_type": "code",
   "execution_count": null,
   "id": "61c8603e",
   "metadata": {},
   "outputs": [],
   "source": [
    "import plotly.express as px\n",
    "import pandas as pd"
   ]
  },
  {
   "cell_type": "code",
   "execution_count": null,
   "id": "2d166fb8",
   "metadata": {
    "scrolled": false
   },
   "outputs": [],
   "source": [
    "fig = px.scatter_mapbox(\n",
    "    mc,\n",
    "    lat=\"lat\",\n",
    "    lon=\"lon\",\n",
    "    color=\"power\",            # Color by intensity\n",
    "    size = \"power\",\n",
    "    opacity=0.3,\n",
    "    text = \"essid\",\n",
    "    color_continuous_scale=\"magma\",\n",
    "    zoom=3,\n",
    "    height=600\n",
    "    \n",
    ")\n",
    "\n",
    "fig.update_layout(mapbox_style=\"open-street-map\")\n",
    "fig.update_layout(margin={\"r\":0,\"t\":0,\"l\":0,\"b\":0})\n",
    "fig.update_layout(height=1200)\n",
    "fig.show()"
   ]
  },
  {
   "cell_type": "code",
   "execution_count": null,
   "id": "06c1e572",
   "metadata": {},
   "outputs": [],
   "source": [
    "df= df.apply(lambda x: get_lat_lon(x, lines), axis=1)"
   ]
  },
  {
   "cell_type": "code",
   "execution_count": null,
   "id": "85beeb76",
   "metadata": {
    "scrolled": false
   },
   "outputs": [],
   "source": [
    "fig = px.scatter_mapbox(\n",
    "    df,\n",
    "    lat=\"lat\",\n",
    "    lon=\"lon\",\n",
    "    color=\"power\",            # Color by intensity\n",
    "    size = \"power\",\n",
    "    opacity=0.05,\n",
    "    text = \"essid\",\n",
    "    color_continuous_scale=\"viridis\",\n",
    "    zoom=3,\n",
    "    height=600\n",
    "    \n",
    ")\n",
    "\n",
    "fig.update_layout(mapbox_style=\"open-street-map\")\n",
    "fig.update_layout(margin={\"r\":0,\"t\":0,\"l\":0,\"b\":0})\n",
    "fig.update_layout(height=1200) \n",
    "fig.show()"
   ]
  },
  {
   "cell_type": "code",
   "execution_count": null,
   "id": "75acd69e",
   "metadata": {},
   "outputs": [],
   "source": [
    "df['target'] = df['essid'].apply(lambda x: ole_mac(x))"
   ]
  },
  {
   "cell_type": "code",
   "execution_count": null,
   "id": "96785b23",
   "metadata": {},
   "outputs": [],
   "source": [
    "df['target'].value_counts()"
   ]
  },
  {
   "cell_type": "code",
   "execution_count": null,
   "id": "ce4dc2c5",
   "metadata": {
    "scrolled": false
   },
   "outputs": [],
   "source": [
    "fig = px.scatter_mapbox(\n",
    "    df,\n",
    "    lat=\"lat\",\n",
    "    lon=\"lon\",\n",
    "    color=\"target\",            # Color by intensity\n",
    "    size = \"power\",\n",
    "    opacity=0.2,\n",
    "    text = \"essid\",\n",
    "    color_continuous_scale=\"solar\",\n",
    "        color_discrete_map={\n",
    "        True: \"red\",\n",
    "        False: \"grey\"\n",
    "    },\n",
    "    zoom=3,\n",
    "    height=600\n",
    "    \n",
    ")\n",
    "\n",
    "fig.update_layout(mapbox_style=\"open-street-map\")\n",
    "fig.update_layout(margin={\"r\":0,\"t\":0,\"l\":0,\"b\":0})\n",
    "fig.update_layout(height=1200)\n",
    "fig.show()"
   ]
  },
  {
   "cell_type": "code",
   "execution_count": null,
   "id": "7b587ad5",
   "metadata": {},
   "outputs": [],
   "source": [
    "df.to_csv(\"dump.csv\", index=False)"
   ]
  },
  {
   "cell_type": "markdown",
   "id": "6727186e",
   "metadata": {},
   "source": [
    "# Power Filtering\n"
   ]
  },
  {
   "cell_type": "code",
   "execution_count": null,
   "id": "dab0b0b3",
   "metadata": {},
   "outputs": [],
   "source": [
    "sns.set(style=\"whitegrid\")\n",
    "palette = sns.color_palette(\"viridis_r\", as_cmap=False)  # Use magma as a list of colors\n",
    "\n",
    "# Boxplot: x = category, y = numeric variable, hue = optional grouping\n",
    "ax = sns.boxplot(x='target', y='power', data=df, palette=palette)\n",
    "\n",
    "# Show the plot\n",
    "plt.title(\"Power Difference\")\n",
    "plt.show()"
   ]
  },
  {
   "cell_type": "code",
   "execution_count": null,
   "id": "0e1914a4",
   "metadata": {},
   "outputs": [],
   "source": [
    "fig = px.scatter_mapbox(\n",
    "    mc[mc['power'] > 30],\n",
    "    lat=\"lat\",\n",
    "    lon=\"lon\",\n",
    "    color=\"power\",            # Color by intensity\n",
    "    size = \"power\",\n",
    "    opacity=0.3,\n",
    "    text = \"essid\",\n",
    "    color_continuous_scale=\"magma\",\n",
    "    zoom=3,\n",
    "    height=600\n",
    "    \n",
    ")\n",
    "\n",
    "fig.update_layout(mapbox_style=\"open-street-map\")\n",
    "fig.update_layout(margin={\"r\":0,\"t\":0,\"l\":0,\"b\":0})\n",
    "fig.update_layout(height=1200)\n",
    "fig.show()"
   ]
  },
  {
   "cell_type": "code",
   "execution_count": null,
   "id": "6cdcf239",
   "metadata": {},
   "outputs": [],
   "source": []
  }
 ],
 "metadata": {
  "kernelspec": {
   "display_name": "Python 3 (ipykernel)",
   "language": "python",
   "name": "python3"
  },
  "language_info": {
   "codemirror_mode": {
    "name": "ipython",
    "version": 3
   },
   "file_extension": ".py",
   "mimetype": "text/x-python",
   "name": "python",
   "nbconvert_exporter": "python",
   "pygments_lexer": "ipython3",
   "version": "3.10.12"
  }
 },
 "nbformat": 4,
 "nbformat_minor": 5
}
